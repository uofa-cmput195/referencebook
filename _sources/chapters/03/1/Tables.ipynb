{
 "cells": [
  {
   "cell_type": "code",
   "execution_count": 33,
   "metadata": {
    "tags": [
     "remove-input"
    ]
   },
   "outputs": [],
   "source": [
    "import numpy as np\n",
    "np.set_printoptions(threshold=50)\n",
    "path_data = '../../assets/data/'"
   ]
  },
  {
   "cell_type": "markdown",
   "metadata": {},
   "source": [
    "# Working with Tabular Data\n",
    "\n",
    "Tabular data is one of the most common and useful forms of data for analysis. Tables are a fundamental object type for representing data sets. A table can be viewed in two ways:\n",
    "* a sequence of named columns that each describe a single aspect of all entries in a data set, or\n",
    "* a sequence of rows that each contain all information about a single entry in a data set.\n",
    "\n",
    "The row and column are the two main components of a table.\n",
    "\n",
    "In order to use tables, we will use `pandas`, the standard Python library for working with tabular data. `pandas` is the current tool of choice in both industry and academia for working with tabular data. It is more important that you understand the types of useful operations on data than the exact details of `pandas` syntax.  The full documentation to the `pandas` library can be found [`pandas` documentation](https://pandas.pydata.org/pandas-docs/stable/). Because we will cover only the most important pandas functions in the CMPUT 195 course, you should bookmark the full documentation for reference when you conduct your own data analyses. Let's begin by importing `pandas`:"
   ]
  },
  {
   "cell_type": "code",
   "execution_count": 6,
   "metadata": {},
   "outputs": [],
   "source": [
    "# pd is a common shorthand for pandas\n",
    "import pandas as pd"
   ]
  },
  {
   "cell_type": "markdown",
   "metadata": {},
   "source": [
    "<h2>Creating DataFrame</h2>\n",
    "Tables created using `pandas` are called a DataFrame object. Empty DataFrames can be created using the `DataFrame` function. An empty dataframe is useful because it can be extended to contain new rows and columns."
   ]
  },
  {
   "cell_type": "code",
   "execution_count": 10,
   "metadata": {},
   "outputs": [
    {
     "data": {
      "text/html": [
       "<div>\n",
       "<style scoped>\n",
       "    .dataframe tbody tr th:only-of-type {\n",
       "        vertical-align: middle;\n",
       "    }\n",
       "\n",
       "    .dataframe tbody tr th {\n",
       "        vertical-align: top;\n",
       "    }\n",
       "\n",
       "    .dataframe thead th {\n",
       "        text-align: right;\n",
       "    }\n",
       "</style>\n",
       "<table border=\"1\" class=\"dataframe\">\n",
       "  <thead>\n",
       "    <tr style=\"text-align: right;\">\n",
       "      <th></th>\n",
       "    </tr>\n",
       "  </thead>\n",
       "  <tbody>\n",
       "  </tbody>\n",
       "</table>\n",
       "</div>"
      ],
      "text/plain": [
       "Empty DataFrame\n",
       "Columns: []\n",
       "Index: []"
      ]
     },
     "execution_count": 10,
     "metadata": {},
     "output_type": "execute_result"
    }
   ],
   "source": [
    "df = pd.DataFrame()"
   ]
  },
  {
   "cell_type": "markdown",
   "metadata": {},
   "source": [
    "To create a DataFrame with data we use Python dictionary as data. This dictionary structure is a common way to represent tabular data before converting it to a more convenient format like a DataFrame. \n",
    "\n",
    "The `pandas` DataFrame(data) function converts the dictionary data into a DataFrame, which is a two-dimensional labeled data structure with columns of potentially different types. The resulting DataFrame flowers will have two columns ('Number of petals' and 'Name') and three rows, corresponding to the entries in the lists. You can create a DataFrame with one or multiple columns. Note that, all columns must have the same length, or an error will occur.\n",
    "\n",
    "Below, we create a DataFrame with some initial data."
   ]
  },
  {
   "cell_type": "code",
   "execution_count": 27,
   "metadata": {},
   "outputs": [
    {
     "data": {
      "text/html": [
       "<div>\n",
       "<style scoped>\n",
       "    .dataframe tbody tr th:only-of-type {\n",
       "        vertical-align: middle;\n",
       "    }\n",
       "\n",
       "    .dataframe tbody tr th {\n",
       "        vertical-align: top;\n",
       "    }\n",
       "\n",
       "    .dataframe thead th {\n",
       "        text-align: right;\n",
       "    }\n",
       "</style>\n",
       "<table border=\"1\" class=\"dataframe\">\n",
       "  <thead>\n",
       "    <tr style=\"text-align: right;\">\n",
       "      <th></th>\n",
       "      <th>Number of petals</th>\n",
       "      <th>Name</th>\n",
       "    </tr>\n",
       "  </thead>\n",
       "  <tbody>\n",
       "    <tr>\n",
       "      <th>0</th>\n",
       "      <td>8</td>\n",
       "      <td>lotus</td>\n",
       "    </tr>\n",
       "    <tr>\n",
       "      <th>1</th>\n",
       "      <td>34</td>\n",
       "      <td>sunflower</td>\n",
       "    </tr>\n",
       "    <tr>\n",
       "      <th>2</th>\n",
       "      <td>5</td>\n",
       "      <td>rose</td>\n",
       "    </tr>\n",
       "  </tbody>\n",
       "</table>\n",
       "</div>"
      ],
      "text/plain": [
       "   Number of petals       Name\n",
       "0                 8      lotus\n",
       "1                34  sunflower\n",
       "2                 5       rose"
      ]
     },
     "execution_count": 27,
     "metadata": {},
     "output_type": "execute_result"
    }
   ],
   "source": [
    "data = {\n",
    "    'Number of petals': [8, 34, 5],\n",
    "    'Name':['lotus', 'sunflower', 'rose']\n",
    "}\n",
    "flowers = pd.DataFrame(data)\n",
    "flowers\n"
   ]
  },
  {
   "cell_type": "markdown",
   "metadata": {},
   "source": [
    "In the above examples you see that there is an additional column created. The additional column is called `index`, which is another main component of a DataFrame. It serves as a unique identifier for each row, enabling quick data retrieval and alignment. In the example above, the default index values are 0, 1, and 2. The index can be customized to fit the needs of the analysis, making it a powerful feature for managing and analyzing data in Pandas."
   ]
  },
  {
   "cell_type": "markdown",
   "metadata": {},
   "source": [
    "We can extend the DataFrame with another column. To add a column to a DataFrame `assign` method is used. "
   ]
  },
  {
   "cell_type": "code",
   "execution_count": 28,
   "metadata": {},
   "outputs": [
    {
     "data": {
      "text/html": [
       "<div>\n",
       "<style scoped>\n",
       "    .dataframe tbody tr th:only-of-type {\n",
       "        vertical-align: middle;\n",
       "    }\n",
       "\n",
       "    .dataframe tbody tr th {\n",
       "        vertical-align: top;\n",
       "    }\n",
       "\n",
       "    .dataframe thead th {\n",
       "        text-align: right;\n",
       "    }\n",
       "</style>\n",
       "<table border=\"1\" class=\"dataframe\">\n",
       "  <thead>\n",
       "    <tr style=\"text-align: right;\">\n",
       "      <th></th>\n",
       "      <th>Number of petals</th>\n",
       "      <th>Name</th>\n",
       "      <th>Color</th>\n",
       "    </tr>\n",
       "  </thead>\n",
       "  <tbody>\n",
       "    <tr>\n",
       "      <th>0</th>\n",
       "      <td>8</td>\n",
       "      <td>lotus</td>\n",
       "      <td>pink</td>\n",
       "    </tr>\n",
       "    <tr>\n",
       "      <th>1</th>\n",
       "      <td>34</td>\n",
       "      <td>sunflower</td>\n",
       "      <td>yellow</td>\n",
       "    </tr>\n",
       "    <tr>\n",
       "      <th>2</th>\n",
       "      <td>5</td>\n",
       "      <td>rose</td>\n",
       "      <td>red</td>\n",
       "    </tr>\n",
       "  </tbody>\n",
       "</table>\n",
       "</div>"
      ],
      "text/plain": [
       "   Number of petals       Name   Color\n",
       "0                 8      lotus    pink\n",
       "1                34  sunflower  yellow\n",
       "2                 5       rose     red"
      ]
     },
     "execution_count": 28,
     "metadata": {},
     "output_type": "execute_result"
    }
   ],
   "source": [
    "flowers.assign(Color = ['pink', 'yellow', 'red'])"
   ]
  },
  {
   "cell_type": "markdown",
   "metadata": {},
   "source": [
    "The `assign` method creates a new DataFrame each time it is called, so the original DataFrame is not affected. For example, the DataFrame `flowers` still has only the two columns that it had when it was created."
   ]
  },
  {
   "cell_type": "code",
   "execution_count": 29,
   "metadata": {},
   "outputs": [
    {
     "data": {
      "text/html": [
       "<div>\n",
       "<style scoped>\n",
       "    .dataframe tbody tr th:only-of-type {\n",
       "        vertical-align: middle;\n",
       "    }\n",
       "\n",
       "    .dataframe tbody tr th {\n",
       "        vertical-align: top;\n",
       "    }\n",
       "\n",
       "    .dataframe thead th {\n",
       "        text-align: right;\n",
       "    }\n",
       "</style>\n",
       "<table border=\"1\" class=\"dataframe\">\n",
       "  <thead>\n",
       "    <tr style=\"text-align: right;\">\n",
       "      <th></th>\n",
       "      <th>Number of petals</th>\n",
       "      <th>Name</th>\n",
       "    </tr>\n",
       "  </thead>\n",
       "  <tbody>\n",
       "    <tr>\n",
       "      <th>0</th>\n",
       "      <td>8</td>\n",
       "      <td>lotus</td>\n",
       "    </tr>\n",
       "    <tr>\n",
       "      <th>1</th>\n",
       "      <td>34</td>\n",
       "      <td>sunflower</td>\n",
       "    </tr>\n",
       "    <tr>\n",
       "      <th>2</th>\n",
       "      <td>5</td>\n",
       "      <td>rose</td>\n",
       "    </tr>\n",
       "  </tbody>\n",
       "</table>\n",
       "</div>"
      ],
      "text/plain": [
       "   Number of petals       Name\n",
       "0                 8      lotus\n",
       "1                34  sunflower\n",
       "2                 5       rose"
      ]
     },
     "execution_count": 29,
     "metadata": {},
     "output_type": "execute_result"
    }
   ],
   "source": [
    "flowers"
   ]
  },
  {
   "cell_type": "markdown",
   "metadata": {},
   "source": [
    "To modify the original DataFrame you need to assign it to a new DataFrame."
   ]
  },
  {
   "cell_type": "code",
   "execution_count": 30,
   "metadata": {},
   "outputs": [
    {
     "data": {
      "text/html": [
       "<div>\n",
       "<style scoped>\n",
       "    .dataframe tbody tr th:only-of-type {\n",
       "        vertical-align: middle;\n",
       "    }\n",
       "\n",
       "    .dataframe tbody tr th {\n",
       "        vertical-align: top;\n",
       "    }\n",
       "\n",
       "    .dataframe thead th {\n",
       "        text-align: right;\n",
       "    }\n",
       "</style>\n",
       "<table border=\"1\" class=\"dataframe\">\n",
       "  <thead>\n",
       "    <tr style=\"text-align: right;\">\n",
       "      <th></th>\n",
       "      <th>Number of petals</th>\n",
       "      <th>Name</th>\n",
       "      <th>Color</th>\n",
       "    </tr>\n",
       "  </thead>\n",
       "  <tbody>\n",
       "    <tr>\n",
       "      <th>0</th>\n",
       "      <td>8</td>\n",
       "      <td>lotus</td>\n",
       "      <td>pink</td>\n",
       "    </tr>\n",
       "    <tr>\n",
       "      <th>1</th>\n",
       "      <td>34</td>\n",
       "      <td>sunflower</td>\n",
       "      <td>yellow</td>\n",
       "    </tr>\n",
       "    <tr>\n",
       "      <th>2</th>\n",
       "      <td>5</td>\n",
       "      <td>rose</td>\n",
       "      <td>red</td>\n",
       "    </tr>\n",
       "  </tbody>\n",
       "</table>\n",
       "</div>"
      ],
      "text/plain": [
       "   Number of petals       Name   Color\n",
       "0                 8      lotus    pink\n",
       "1                34  sunflower  yellow\n",
       "2                 5       rose     red"
      ]
     },
     "execution_count": 30,
     "metadata": {},
     "output_type": "execute_result"
    }
   ],
   "source": [
    "flowers = flowers.assign(Color = ['pink', 'yellow', 'red'])\n",
    "flowers"
   ]
  },
  {
   "cell_type": "markdown",
   "metadata": {},
   "source": [
    "<h2>Reading DataFrame</h2>\n",
    "Creating DataFrames in this way involves a lot of typing. If the data have already been entered somewhere, it is usually possible to use `pandas` to read it into a DataFrame, instead of typing it all in cell by cell.\n",
    "\n",
    "Often, DataFrames are created from files that contain comma-separated values. Such files are called CSV files.\n",
    "\n",
    "Below, we use the `pandas` method `read_csv` to read a CSV file that contains imdb top 200 movies up to 2017. The data are placed in a DataFrame named `topmovies`."
   ]
  },
  {
   "cell_type": "code",
   "execution_count": 35,
   "metadata": {},
   "outputs": [
    {
     "data": {
      "text/html": [
       "<div>\n",
       "<style scoped>\n",
       "    .dataframe tbody tr th:only-of-type {\n",
       "        vertical-align: middle;\n",
       "    }\n",
       "\n",
       "    .dataframe tbody tr th {\n",
       "        vertical-align: top;\n",
       "    }\n",
       "\n",
       "    .dataframe thead th {\n",
       "        text-align: right;\n",
       "    }\n",
       "</style>\n",
       "<table border=\"1\" class=\"dataframe\">\n",
       "  <thead>\n",
       "    <tr style=\"text-align: right;\">\n",
       "      <th></th>\n",
       "      <th>Title</th>\n",
       "      <th>Studio</th>\n",
       "      <th>Gross</th>\n",
       "      <th>Gross (Adjusted)</th>\n",
       "      <th>Year</th>\n",
       "    </tr>\n",
       "  </thead>\n",
       "  <tbody>\n",
       "    <tr>\n",
       "      <th>0</th>\n",
       "      <td>Gone with the Wind</td>\n",
       "      <td>MGM</td>\n",
       "      <td>198676459</td>\n",
       "      <td>1796176700</td>\n",
       "      <td>1939</td>\n",
       "    </tr>\n",
       "    <tr>\n",
       "      <th>1</th>\n",
       "      <td>Star Wars</td>\n",
       "      <td>Fox</td>\n",
       "      <td>460998007</td>\n",
       "      <td>1583483200</td>\n",
       "      <td>1977</td>\n",
       "    </tr>\n",
       "    <tr>\n",
       "      <th>2</th>\n",
       "      <td>The Sound of Music</td>\n",
       "      <td>Fox</td>\n",
       "      <td>158671368</td>\n",
       "      <td>1266072700</td>\n",
       "      <td>1965</td>\n",
       "    </tr>\n",
       "    <tr>\n",
       "      <th>3</th>\n",
       "      <td>E.T.: The Extra-Terrestrial</td>\n",
       "      <td>Universal</td>\n",
       "      <td>435110554</td>\n",
       "      <td>1261085000</td>\n",
       "      <td>1982</td>\n",
       "    </tr>\n",
       "    <tr>\n",
       "      <th>4</th>\n",
       "      <td>Titanic</td>\n",
       "      <td>Paramount</td>\n",
       "      <td>658672302</td>\n",
       "      <td>1204368000</td>\n",
       "      <td>1997</td>\n",
       "    </tr>\n",
       "    <tr>\n",
       "      <th>...</th>\n",
       "      <td>...</td>\n",
       "      <td>...</td>\n",
       "      <td>...</td>\n",
       "      <td>...</td>\n",
       "      <td>...</td>\n",
       "    </tr>\n",
       "    <tr>\n",
       "      <th>195</th>\n",
       "      <td>9 to 5</td>\n",
       "      <td>Fox</td>\n",
       "      <td>103290500</td>\n",
       "      <td>341357800</td>\n",
       "      <td>1980</td>\n",
       "    </tr>\n",
       "    <tr>\n",
       "      <th>196</th>\n",
       "      <td>Batman v Superman: Dawn of Justice</td>\n",
       "      <td>Warner Brothers</td>\n",
       "      <td>330360194</td>\n",
       "      <td>340137000</td>\n",
       "      <td>2016</td>\n",
       "    </tr>\n",
       "    <tr>\n",
       "      <th>197</th>\n",
       "      <td>The Firm</td>\n",
       "      <td>Paramount</td>\n",
       "      <td>158348367</td>\n",
       "      <td>340028200</td>\n",
       "      <td>1993</td>\n",
       "    </tr>\n",
       "    <tr>\n",
       "      <th>198</th>\n",
       "      <td>Suicide Squad</td>\n",
       "      <td>Warner Brothers</td>\n",
       "      <td>325100054</td>\n",
       "      <td>339411900</td>\n",
       "      <td>2016</td>\n",
       "    </tr>\n",
       "    <tr>\n",
       "      <th>199</th>\n",
       "      <td>Who Framed Roger Rabbit</td>\n",
       "      <td>Buena Vista</td>\n",
       "      <td>156452370</td>\n",
       "      <td>338409100</td>\n",
       "      <td>1988</td>\n",
       "    </tr>\n",
       "  </tbody>\n",
       "</table>\n",
       "<p>200 rows × 5 columns</p>\n",
       "</div>"
      ],
      "text/plain": [
       "                                  Title           Studio      Gross  \\\n",
       "0                    Gone with the Wind              MGM  198676459   \n",
       "1                             Star Wars              Fox  460998007   \n",
       "2                    The Sound of Music              Fox  158671368   \n",
       "3           E.T.: The Extra-Terrestrial        Universal  435110554   \n",
       "4                               Titanic        Paramount  658672302   \n",
       "..                                  ...              ...        ...   \n",
       "195                              9 to 5              Fox  103290500   \n",
       "196  Batman v Superman: Dawn of Justice  Warner Brothers  330360194   \n",
       "197                            The Firm        Paramount  158348367   \n",
       "198                       Suicide Squad  Warner Brothers  325100054   \n",
       "199             Who Framed Roger Rabbit      Buena Vista  156452370   \n",
       "\n",
       "     Gross (Adjusted)  Year  \n",
       "0          1796176700  1939  \n",
       "1          1583483200  1977  \n",
       "2          1266072700  1965  \n",
       "3          1261085000  1982  \n",
       "4          1204368000  1997  \n",
       "..                ...   ...  \n",
       "195         341357800  1980  \n",
       "196         340137000  2016  \n",
       "197         340028200  1993  \n",
       "198         339411900  2016  \n",
       "199         338409100  1988  \n",
       "\n",
       "[200 rows x 5 columns]"
      ]
     },
     "execution_count": 35,
     "metadata": {},
     "output_type": "execute_result"
    }
   ],
   "source": [
    "topmovies = pd.read_csv(path_data + 'top_movies_2017.csv')\n",
    "topmovies"
   ]
  },
  {
   "cell_type": "markdown",
   "metadata": {},
   "source": [
    "We will use this DataFrame to demonstrate some useful methods. We will then develop other methods useful in DataScience on the same DataFrame."
   ]
  },
  {
   "cell_type": "markdown",
   "metadata": {},
   "source": [
    "<h2>The Shape of the DataFrame</h2>\n",
    "\n",
    "The `shape` attribute returns a tuple representing the dimensions of the DataFrame: (number of rows, number of columns)."
   ]
  },
  {
   "cell_type": "code",
   "execution_count": 37,
   "metadata": {},
   "outputs": [
    {
     "name": "stdout",
     "output_type": "stream",
     "text": [
      "The Top Movies Dataset has 200 rows and 5 columns.\n"
     ]
    }
   ],
   "source": [
    "num_rows, num_columns = topmovies.shape\n",
    "print(f'The Top Movies Dataset has {num_rows} rows and {num_columns} columns.')"
   ]
  },
  {
   "cell_type": "markdown",
   "metadata": {},
   "source": [
    "<h2>Column Labels</h2>\n",
    "\n",
    "The attribute `columns` can be used to list the labels of all the columns. With `topmovies` we don't gain much by this, but it can be very useful for DataFrames that are so large that not all columns are visible on the screen.\n",
    "\n",
    "**Note:** The columns attribute of a DataFrame in `pandas` returns an Index object, which is an immutable array implementing an ordered, sliceable set. You can explicitly convert it to a list.\n"
   ]
  },
  {
   "cell_type": "code",
   "execution_count": 41,
   "metadata": {},
   "outputs": [
    {
     "data": {
      "text/plain": [
       "['Title', 'Studio', 'Gross', 'Gross (Adjusted)', 'Year']"
      ]
     },
     "execution_count": 41,
     "metadata": {},
     "output_type": "execute_result"
    }
   ],
   "source": [
    "list(topmovies.columns)"
   ]
  },
  {
   "cell_type": "markdown",
   "metadata": {},
   "source": [
    "We can change column labels using the `rename` method. This creates a new table and leaves `topmovies` unchanged if we don't specify the `inplace` to be true."
   ]
  },
  {
   "cell_type": "code",
   "execution_count": 47,
   "metadata": {},
   "outputs": [
    {
     "data": {
      "text/html": [
       "<div>\n",
       "<style scoped>\n",
       "    .dataframe tbody tr th:only-of-type {\n",
       "        vertical-align: middle;\n",
       "    }\n",
       "\n",
       "    .dataframe tbody tr th {\n",
       "        vertical-align: top;\n",
       "    }\n",
       "\n",
       "    .dataframe thead th {\n",
       "        text-align: right;\n",
       "    }\n",
       "</style>\n",
       "<table border=\"1\" class=\"dataframe\">\n",
       "  <thead>\n",
       "    <tr style=\"text-align: right;\">\n",
       "      <th></th>\n",
       "      <th>Title</th>\n",
       "      <th>Studio</th>\n",
       "      <th>Gross</th>\n",
       "      <th>Gross (Adjusted)</th>\n",
       "      <th>Release Year</th>\n",
       "    </tr>\n",
       "  </thead>\n",
       "  <tbody>\n",
       "    <tr>\n",
       "      <th>0</th>\n",
       "      <td>Gone with the Wind</td>\n",
       "      <td>MGM</td>\n",
       "      <td>198676459</td>\n",
       "      <td>1796176700</td>\n",
       "      <td>1939</td>\n",
       "    </tr>\n",
       "    <tr>\n",
       "      <th>1</th>\n",
       "      <td>Star Wars</td>\n",
       "      <td>Fox</td>\n",
       "      <td>460998007</td>\n",
       "      <td>1583483200</td>\n",
       "      <td>1977</td>\n",
       "    </tr>\n",
       "    <tr>\n",
       "      <th>2</th>\n",
       "      <td>The Sound of Music</td>\n",
       "      <td>Fox</td>\n",
       "      <td>158671368</td>\n",
       "      <td>1266072700</td>\n",
       "      <td>1965</td>\n",
       "    </tr>\n",
       "    <tr>\n",
       "      <th>3</th>\n",
       "      <td>E.T.: The Extra-Terrestrial</td>\n",
       "      <td>Universal</td>\n",
       "      <td>435110554</td>\n",
       "      <td>1261085000</td>\n",
       "      <td>1982</td>\n",
       "    </tr>\n",
       "    <tr>\n",
       "      <th>4</th>\n",
       "      <td>Titanic</td>\n",
       "      <td>Paramount</td>\n",
       "      <td>658672302</td>\n",
       "      <td>1204368000</td>\n",
       "      <td>1997</td>\n",
       "    </tr>\n",
       "    <tr>\n",
       "      <th>...</th>\n",
       "      <td>...</td>\n",
       "      <td>...</td>\n",
       "      <td>...</td>\n",
       "      <td>...</td>\n",
       "      <td>...</td>\n",
       "    </tr>\n",
       "    <tr>\n",
       "      <th>195</th>\n",
       "      <td>9 to 5</td>\n",
       "      <td>Fox</td>\n",
       "      <td>103290500</td>\n",
       "      <td>341357800</td>\n",
       "      <td>1980</td>\n",
       "    </tr>\n",
       "    <tr>\n",
       "      <th>196</th>\n",
       "      <td>Batman v Superman: Dawn of Justice</td>\n",
       "      <td>Warner Brothers</td>\n",
       "      <td>330360194</td>\n",
       "      <td>340137000</td>\n",
       "      <td>2016</td>\n",
       "    </tr>\n",
       "    <tr>\n",
       "      <th>197</th>\n",
       "      <td>The Firm</td>\n",
       "      <td>Paramount</td>\n",
       "      <td>158348367</td>\n",
       "      <td>340028200</td>\n",
       "      <td>1993</td>\n",
       "    </tr>\n",
       "    <tr>\n",
       "      <th>198</th>\n",
       "      <td>Suicide Squad</td>\n",
       "      <td>Warner Brothers</td>\n",
       "      <td>325100054</td>\n",
       "      <td>339411900</td>\n",
       "      <td>2016</td>\n",
       "    </tr>\n",
       "    <tr>\n",
       "      <th>199</th>\n",
       "      <td>Who Framed Roger Rabbit</td>\n",
       "      <td>Buena Vista</td>\n",
       "      <td>156452370</td>\n",
       "      <td>338409100</td>\n",
       "      <td>1988</td>\n",
       "    </tr>\n",
       "  </tbody>\n",
       "</table>\n",
       "<p>200 rows × 5 columns</p>\n",
       "</div>"
      ],
      "text/plain": [
       "                                  Title           Studio      Gross  \\\n",
       "0                    Gone with the Wind              MGM  198676459   \n",
       "1                             Star Wars              Fox  460998007   \n",
       "2                    The Sound of Music              Fox  158671368   \n",
       "3           E.T.: The Extra-Terrestrial        Universal  435110554   \n",
       "4                               Titanic        Paramount  658672302   \n",
       "..                                  ...              ...        ...   \n",
       "195                              9 to 5              Fox  103290500   \n",
       "196  Batman v Superman: Dawn of Justice  Warner Brothers  330360194   \n",
       "197                            The Firm        Paramount  158348367   \n",
       "198                       Suicide Squad  Warner Brothers  325100054   \n",
       "199             Who Framed Roger Rabbit      Buena Vista  156452370   \n",
       "\n",
       "     Gross (Adjusted)  Release Year  \n",
       "0          1796176700          1939  \n",
       "1          1583483200          1977  \n",
       "2          1266072700          1965  \n",
       "3          1261085000          1982  \n",
       "4          1204368000          1997  \n",
       "..                ...           ...  \n",
       "195         341357800          1980  \n",
       "196         340137000          2016  \n",
       "197         340028200          1993  \n",
       "198         339411900          2016  \n",
       "199         338409100          1988  \n",
       "\n",
       "[200 rows x 5 columns]"
      ]
     },
     "execution_count": 47,
     "metadata": {},
     "output_type": "execute_result"
    }
   ],
   "source": [
    "topmovies.rename(columns = {'Year': 'Release Year'}, inplace = True)\n",
    "topmovies"
   ]
  },
  {
   "cell_type": "markdown",
   "metadata": {},
   "source": [
    "<h2>Accessing the Data in a DataFrame</h2>\n",
    "\n",
    "We often want to access certain subsets of a DataFrame. We can do this using rows, columns, or both. The `loc` and `iloc` are two DataFrame slicing attributes which are used for this purpose."
   ]
  },
  {
   "cell_type": "markdown",
   "metadata": {},
   "source": [
    "<h3> loc </h3>\n",
    "\n",
    "The `loc` attribute is used to access rows and columns by their label. `loc` slicing is right-inclusive. Let's take the first 10 movies and their studios from `topmovies` dataframe.\n",
    "\n",
    "**Note:** Remember that the index is also called the row labels."
   ]
  },
  {
   "cell_type": "code",
   "execution_count": 56,
   "metadata": {},
   "outputs": [
    {
     "data": {
      "text/html": [
       "<div>\n",
       "<style scoped>\n",
       "    .dataframe tbody tr th:only-of-type {\n",
       "        vertical-align: middle;\n",
       "    }\n",
       "\n",
       "    .dataframe tbody tr th {\n",
       "        vertical-align: top;\n",
       "    }\n",
       "\n",
       "    .dataframe thead th {\n",
       "        text-align: right;\n",
       "    }\n",
       "</style>\n",
       "<table border=\"1\" class=\"dataframe\">\n",
       "  <thead>\n",
       "    <tr style=\"text-align: right;\">\n",
       "      <th></th>\n",
       "      <th>Title</th>\n",
       "      <th>Studio</th>\n",
       "    </tr>\n",
       "  </thead>\n",
       "  <tbody>\n",
       "    <tr>\n",
       "      <th>0</th>\n",
       "      <td>Gone with the Wind</td>\n",
       "      <td>MGM</td>\n",
       "    </tr>\n",
       "    <tr>\n",
       "      <th>1</th>\n",
       "      <td>Star Wars</td>\n",
       "      <td>Fox</td>\n",
       "    </tr>\n",
       "    <tr>\n",
       "      <th>2</th>\n",
       "      <td>The Sound of Music</td>\n",
       "      <td>Fox</td>\n",
       "    </tr>\n",
       "    <tr>\n",
       "      <th>3</th>\n",
       "      <td>E.T.: The Extra-Terrestrial</td>\n",
       "      <td>Universal</td>\n",
       "    </tr>\n",
       "    <tr>\n",
       "      <th>4</th>\n",
       "      <td>Titanic</td>\n",
       "      <td>Paramount</td>\n",
       "    </tr>\n",
       "    <tr>\n",
       "      <th>5</th>\n",
       "      <td>The Ten Commandments</td>\n",
       "      <td>Paramount</td>\n",
       "    </tr>\n",
       "    <tr>\n",
       "      <th>6</th>\n",
       "      <td>Jaws</td>\n",
       "      <td>Universal</td>\n",
       "    </tr>\n",
       "    <tr>\n",
       "      <th>7</th>\n",
       "      <td>Doctor Zhivago</td>\n",
       "      <td>MGM</td>\n",
       "    </tr>\n",
       "    <tr>\n",
       "      <th>8</th>\n",
       "      <td>The Exorcist</td>\n",
       "      <td>Warner Brothers</td>\n",
       "    </tr>\n",
       "    <tr>\n",
       "      <th>9</th>\n",
       "      <td>Snow White and the Seven Dwarves</td>\n",
       "      <td>Disney</td>\n",
       "    </tr>\n",
       "  </tbody>\n",
       "</table>\n",
       "</div>"
      ],
      "text/plain": [
       "                              Title           Studio\n",
       "0                Gone with the Wind              MGM\n",
       "1                         Star Wars              Fox\n",
       "2                The Sound of Music              Fox\n",
       "3       E.T.: The Extra-Terrestrial        Universal\n",
       "4                           Titanic        Paramount\n",
       "5              The Ten Commandments        Paramount\n",
       "6                              Jaws        Universal\n",
       "7                    Doctor Zhivago              MGM\n",
       "8                      The Exorcist  Warner Brothers\n",
       "9  Snow White and the Seven Dwarves           Disney"
      ]
     },
     "execution_count": 56,
     "metadata": {},
     "output_type": "execute_result"
    }
   ],
   "source": [
    "topmovies.loc [0:9,'Title':'Studio']"
   ]
  },
  {
   "cell_type": "markdown",
   "metadata": {},
   "source": [
    "To access all the rows for some specific column we use [[ ]] operator as well."
   ]
  },
  {
   "cell_type": "code",
   "execution_count": 67,
   "metadata": {},
   "outputs": [
    {
     "data": {
      "text/html": [
       "<div>\n",
       "<style scoped>\n",
       "    .dataframe tbody tr th:only-of-type {\n",
       "        vertical-align: middle;\n",
       "    }\n",
       "\n",
       "    .dataframe tbody tr th {\n",
       "        vertical-align: top;\n",
       "    }\n",
       "\n",
       "    .dataframe thead th {\n",
       "        text-align: right;\n",
       "    }\n",
       "</style>\n",
       "<table border=\"1\" class=\"dataframe\">\n",
       "  <thead>\n",
       "    <tr style=\"text-align: right;\">\n",
       "      <th></th>\n",
       "      <th>Title</th>\n",
       "      <th>Studio</th>\n",
       "    </tr>\n",
       "  </thead>\n",
       "  <tbody>\n",
       "    <tr>\n",
       "      <th>0</th>\n",
       "      <td>Gone with the Wind</td>\n",
       "      <td>MGM</td>\n",
       "    </tr>\n",
       "    <tr>\n",
       "      <th>1</th>\n",
       "      <td>Star Wars</td>\n",
       "      <td>Fox</td>\n",
       "    </tr>\n",
       "    <tr>\n",
       "      <th>2</th>\n",
       "      <td>The Sound of Music</td>\n",
       "      <td>Fox</td>\n",
       "    </tr>\n",
       "    <tr>\n",
       "      <th>3</th>\n",
       "      <td>E.T.: The Extra-Terrestrial</td>\n",
       "      <td>Universal</td>\n",
       "    </tr>\n",
       "    <tr>\n",
       "      <th>4</th>\n",
       "      <td>Titanic</td>\n",
       "      <td>Paramount</td>\n",
       "    </tr>\n",
       "    <tr>\n",
       "      <th>...</th>\n",
       "      <td>...</td>\n",
       "      <td>...</td>\n",
       "    </tr>\n",
       "    <tr>\n",
       "      <th>195</th>\n",
       "      <td>9 to 5</td>\n",
       "      <td>Fox</td>\n",
       "    </tr>\n",
       "    <tr>\n",
       "      <th>196</th>\n",
       "      <td>Batman v Superman: Dawn of Justice</td>\n",
       "      <td>Warner Brothers</td>\n",
       "    </tr>\n",
       "    <tr>\n",
       "      <th>197</th>\n",
       "      <td>The Firm</td>\n",
       "      <td>Paramount</td>\n",
       "    </tr>\n",
       "    <tr>\n",
       "      <th>198</th>\n",
       "      <td>Suicide Squad</td>\n",
       "      <td>Warner Brothers</td>\n",
       "    </tr>\n",
       "    <tr>\n",
       "      <th>199</th>\n",
       "      <td>Who Framed Roger Rabbit</td>\n",
       "      <td>Buena Vista</td>\n",
       "    </tr>\n",
       "  </tbody>\n",
       "</table>\n",
       "<p>200 rows × 2 columns</p>\n",
       "</div>"
      ],
      "text/plain": [
       "                                  Title           Studio\n",
       "0                    Gone with the Wind              MGM\n",
       "1                             Star Wars              Fox\n",
       "2                    The Sound of Music              Fox\n",
       "3           E.T.: The Extra-Terrestrial        Universal\n",
       "4                               Titanic        Paramount\n",
       "..                                  ...              ...\n",
       "195                              9 to 5              Fox\n",
       "196  Batman v Superman: Dawn of Justice  Warner Brothers\n",
       "197                            The Firm        Paramount\n",
       "198                       Suicide Squad  Warner Brothers\n",
       "199             Who Framed Roger Rabbit      Buena Vista\n",
       "\n",
       "[200 rows x 2 columns]"
      ]
     },
     "execution_count": 67,
     "metadata": {},
     "output_type": "execute_result"
    }
   ],
   "source": [
    "topmovies[['Title','Studio']]"
   ]
  },
  {
   "cell_type": "markdown",
   "metadata": {},
   "source": [
    "If we want to access only one column, we can use the [] operator instead of the [[]] operator. The ['column_name'] will return a `pandas` Series which can be converted to DataFrame by using the `to_frame()` method."
   ]
  },
  {
   "cell_type": "code",
   "execution_count": 69,
   "metadata": {},
   "outputs": [
    {
     "data": {
      "text/html": [
       "<div>\n",
       "<style scoped>\n",
       "    .dataframe tbody tr th:only-of-type {\n",
       "        vertical-align: middle;\n",
       "    }\n",
       "\n",
       "    .dataframe tbody tr th {\n",
       "        vertical-align: top;\n",
       "    }\n",
       "\n",
       "    .dataframe thead th {\n",
       "        text-align: right;\n",
       "    }\n",
       "</style>\n",
       "<table border=\"1\" class=\"dataframe\">\n",
       "  <thead>\n",
       "    <tr style=\"text-align: right;\">\n",
       "      <th></th>\n",
       "      <th>Title</th>\n",
       "    </tr>\n",
       "  </thead>\n",
       "  <tbody>\n",
       "    <tr>\n",
       "      <th>0</th>\n",
       "      <td>Gone with the Wind</td>\n",
       "    </tr>\n",
       "    <tr>\n",
       "      <th>1</th>\n",
       "      <td>Star Wars</td>\n",
       "    </tr>\n",
       "    <tr>\n",
       "      <th>2</th>\n",
       "      <td>The Sound of Music</td>\n",
       "    </tr>\n",
       "    <tr>\n",
       "      <th>3</th>\n",
       "      <td>E.T.: The Extra-Terrestrial</td>\n",
       "    </tr>\n",
       "    <tr>\n",
       "      <th>4</th>\n",
       "      <td>Titanic</td>\n",
       "    </tr>\n",
       "    <tr>\n",
       "      <th>...</th>\n",
       "      <td>...</td>\n",
       "    </tr>\n",
       "    <tr>\n",
       "      <th>195</th>\n",
       "      <td>9 to 5</td>\n",
       "    </tr>\n",
       "    <tr>\n",
       "      <th>196</th>\n",
       "      <td>Batman v Superman: Dawn of Justice</td>\n",
       "    </tr>\n",
       "    <tr>\n",
       "      <th>197</th>\n",
       "      <td>The Firm</td>\n",
       "    </tr>\n",
       "    <tr>\n",
       "      <th>198</th>\n",
       "      <td>Suicide Squad</td>\n",
       "    </tr>\n",
       "    <tr>\n",
       "      <th>199</th>\n",
       "      <td>Who Framed Roger Rabbit</td>\n",
       "    </tr>\n",
       "  </tbody>\n",
       "</table>\n",
       "<p>200 rows × 1 columns</p>\n",
       "</div>"
      ],
      "text/plain": [
       "                                  Title\n",
       "0                    Gone with the Wind\n",
       "1                             Star Wars\n",
       "2                    The Sound of Music\n",
       "3           E.T.: The Extra-Terrestrial\n",
       "4                               Titanic\n",
       "..                                  ...\n",
       "195                              9 to 5\n",
       "196  Batman v Superman: Dawn of Justice\n",
       "197                            The Firm\n",
       "198                       Suicide Squad\n",
       "199             Who Framed Roger Rabbit\n",
       "\n",
       "[200 rows x 1 columns]"
      ]
     },
     "execution_count": 69,
     "metadata": {},
     "output_type": "execute_result"
    }
   ],
   "source": [
    "topmovies['Title'].to_frame()"
   ]
  },
  {
   "cell_type": "markdown",
   "metadata": {},
   "source": []
  },
  {
   "cell_type": "markdown",
   "metadata": {},
   "source": [
    "The 5 columns are indexed 0, 1, 2, 3, and 4. The column `Survivors` can also be accessed by using its column index."
   ]
  },
  {
   "cell_type": "code",
   "execution_count": 16,
   "metadata": {},
   "outputs": [
    {
     "data": {
      "text/plain": [
       "array([145000, 140000, 127100, 100000,  55000,  24000,  20000,  12000])"
      ]
     },
     "execution_count": 16,
     "metadata": {},
     "output_type": "execute_result"
    }
   ],
   "source": [
    "minard.column(4)"
   ]
  },
  {
   "cell_type": "markdown",
   "metadata": {},
   "source": [
    "The 8 items in the array are indexed 0, 1, 2, and so on, up to 7. The items in the column can be accessed using `item`, as with any array."
   ]
  },
  {
   "cell_type": "code",
   "execution_count": 17,
   "metadata": {},
   "outputs": [
    {
     "data": {
      "text/plain": [
       "145000"
      ]
     },
     "execution_count": 17,
     "metadata": {},
     "output_type": "execute_result"
    }
   ],
   "source": [
    "minard.column(4).item(0)"
   ]
  },
  {
   "cell_type": "code",
   "execution_count": 18,
   "metadata": {},
   "outputs": [
    {
     "data": {
      "text/plain": [
       "24000"
      ]
     },
     "execution_count": 18,
     "metadata": {},
     "output_type": "execute_result"
    }
   ],
   "source": [
    "minard.column(4).item(5)"
   ]
  },
  {
   "cell_type": "markdown",
   "metadata": {},
   "source": [
    "<h2>Working with the Data in a Column</h2>\n",
    "\n",
    "Because columns are arrays, we can use array operations on them to discover new information. For example, we can create a new column that contains the percent of all survivors at each city after Smolensk."
   ]
  },
  {
   "cell_type": "code",
   "execution_count": 19,
   "metadata": {},
   "outputs": [
    {
     "data": {
      "text/html": [
       "<table border=\"1\" class=\"dataframe\">\n",
       "    <thead>\n",
       "        <tr>\n",
       "            <th>Longitude</th> <th>Latitude</th> <th>City Name</th> <th>Direction</th> <th>Survivors</th> <th>Percent Surviving</th>\n",
       "        </tr>\n",
       "    </thead>\n",
       "    <tbody>\n",
       "        <tr>\n",
       "            <td>32       </td> <td>54.8    </td> <td>Smolensk   </td> <td>Advance  </td> <td>145000   </td> <td>1                </td>\n",
       "        </tr>\n",
       "        <tr>\n",
       "            <td>33.2     </td> <td>54.9    </td> <td>Dorogobouge</td> <td>Advance  </td> <td>140000   </td> <td>0.965517         </td>\n",
       "        </tr>\n",
       "        <tr>\n",
       "            <td>34.4     </td> <td>55.5    </td> <td>Chjat      </td> <td>Advance  </td> <td>127100   </td> <td>0.876552         </td>\n",
       "        </tr>\n",
       "        <tr>\n",
       "            <td>37.6     </td> <td>55.8    </td> <td>Moscou     </td> <td>Advance  </td> <td>100000   </td> <td>0.689655         </td>\n",
       "        </tr>\n",
       "        <tr>\n",
       "            <td>34.3     </td> <td>55.2    </td> <td>Wixma      </td> <td>Retreat  </td> <td>55000    </td> <td>0.37931          </td>\n",
       "        </tr>\n",
       "        <tr>\n",
       "            <td>32       </td> <td>54.6    </td> <td>Smolensk   </td> <td>Retreat  </td> <td>24000    </td> <td>0.165517         </td>\n",
       "        </tr>\n",
       "        <tr>\n",
       "            <td>30.4     </td> <td>54.4    </td> <td>Orscha     </td> <td>Retreat  </td> <td>20000    </td> <td>0.137931         </td>\n",
       "        </tr>\n",
       "        <tr>\n",
       "            <td>26.8     </td> <td>54.3    </td> <td>Moiodexno  </td> <td>Retreat  </td> <td>12000    </td> <td>0.0827586        </td>\n",
       "        </tr>\n",
       "    </tbody>\n",
       "</table>"
      ],
      "text/plain": [
       "Longitude | Latitude | City Name   | Direction | Survivors | Percent Surviving\n",
       "32        | 54.8     | Smolensk    | Advance   | 145000    | 1\n",
       "33.2      | 54.9     | Dorogobouge | Advance   | 140000    | 0.965517\n",
       "34.4      | 55.5     | Chjat       | Advance   | 127100    | 0.876552\n",
       "37.6      | 55.8     | Moscou      | Advance   | 100000    | 0.689655\n",
       "34.3      | 55.2     | Wixma       | Retreat   | 55000     | 0.37931\n",
       "32        | 54.6     | Smolensk    | Retreat   | 24000     | 0.165517\n",
       "30.4      | 54.4     | Orscha      | Retreat   | 20000     | 0.137931\n",
       "26.8      | 54.3     | Moiodexno   | Retreat   | 12000     | 0.0827586"
      ]
     },
     "execution_count": 19,
     "metadata": {},
     "output_type": "execute_result"
    }
   ],
   "source": [
    "initial = minard.column('Survivors').item(0)\n",
    "minard = minard.with_columns(\n",
    "    'Percent Surviving', minard.column('Survivors')/initial\n",
    ")\n",
    "minard"
   ]
  },
  {
   "cell_type": "markdown",
   "metadata": {},
   "source": [
    "To make the proportions in the new columns appear as percents, we can use the method `set_format` with the option `PercentFormatter`. The `set_format` method takes `Formatter` objects, which exist for dates (`DateFormatter`), currencies (`CurrencyFormatter`), numbers, and percentages."
   ]
  },
  {
   "cell_type": "code",
   "execution_count": 20,
   "metadata": {},
   "outputs": [
    {
     "data": {
      "text/html": [
       "<table border=\"1\" class=\"dataframe\">\n",
       "    <thead>\n",
       "        <tr>\n",
       "            <th>Longitude</th> <th>Latitude</th> <th>City Name</th> <th>Direction</th> <th>Survivors</th> <th>Percent Surviving</th>\n",
       "        </tr>\n",
       "    </thead>\n",
       "    <tbody>\n",
       "        <tr>\n",
       "            <td>32       </td> <td>54.8    </td> <td>Smolensk   </td> <td>Advance  </td> <td>145000   </td> <td>100.00%          </td>\n",
       "        </tr>\n",
       "        <tr>\n",
       "            <td>33.2     </td> <td>54.9    </td> <td>Dorogobouge</td> <td>Advance  </td> <td>140000   </td> <td>96.55%           </td>\n",
       "        </tr>\n",
       "        <tr>\n",
       "            <td>34.4     </td> <td>55.5    </td> <td>Chjat      </td> <td>Advance  </td> <td>127100   </td> <td>87.66%           </td>\n",
       "        </tr>\n",
       "        <tr>\n",
       "            <td>37.6     </td> <td>55.8    </td> <td>Moscou     </td> <td>Advance  </td> <td>100000   </td> <td>68.97%           </td>\n",
       "        </tr>\n",
       "        <tr>\n",
       "            <td>34.3     </td> <td>55.2    </td> <td>Wixma      </td> <td>Retreat  </td> <td>55000    </td> <td>37.93%           </td>\n",
       "        </tr>\n",
       "        <tr>\n",
       "            <td>32       </td> <td>54.6    </td> <td>Smolensk   </td> <td>Retreat  </td> <td>24000    </td> <td>16.55%           </td>\n",
       "        </tr>\n",
       "        <tr>\n",
       "            <td>30.4     </td> <td>54.4    </td> <td>Orscha     </td> <td>Retreat  </td> <td>20000    </td> <td>13.79%           </td>\n",
       "        </tr>\n",
       "        <tr>\n",
       "            <td>26.8     </td> <td>54.3    </td> <td>Moiodexno  </td> <td>Retreat  </td> <td>12000    </td> <td>8.28%            </td>\n",
       "        </tr>\n",
       "    </tbody>\n",
       "</table>"
      ],
      "text/plain": [
       "Longitude | Latitude | City Name   | Direction | Survivors | Percent Surviving\n",
       "32        | 54.8     | Smolensk    | Advance   | 145000    | 100.00%\n",
       "33.2      | 54.9     | Dorogobouge | Advance   | 140000    | 96.55%\n",
       "34.4      | 55.5     | Chjat       | Advance   | 127100    | 87.66%\n",
       "37.6      | 55.8     | Moscou      | Advance   | 100000    | 68.97%\n",
       "34.3      | 55.2     | Wixma       | Retreat   | 55000     | 37.93%\n",
       "32        | 54.6     | Smolensk    | Retreat   | 24000     | 16.55%\n",
       "30.4      | 54.4     | Orscha      | Retreat   | 20000     | 13.79%\n",
       "26.8      | 54.3     | Moiodexno   | Retreat   | 12000     | 8.28%"
      ]
     },
     "execution_count": 20,
     "metadata": {},
     "output_type": "execute_result"
    }
   ],
   "source": [
    "minard.set_format('Percent Surviving', PercentFormatter)"
   ]
  },
  {
   "cell_type": "markdown",
   "metadata": {},
   "source": [
    "<h2>Choosing Sets of Columns</h2>\n",
    "\n",
    "The method `select` creates a new table that contains only the specified columns."
   ]
  },
  {
   "cell_type": "code",
   "execution_count": 21,
   "metadata": {},
   "outputs": [
    {
     "data": {
      "text/html": [
       "<table border=\"1\" class=\"dataframe\">\n",
       "    <thead>\n",
       "        <tr>\n",
       "            <th>Longitude</th> <th>Latitude</th>\n",
       "        </tr>\n",
       "    </thead>\n",
       "    <tbody>\n",
       "        <tr>\n",
       "            <td>32       </td> <td>54.8    </td>\n",
       "        </tr>\n",
       "        <tr>\n",
       "            <td>33.2     </td> <td>54.9    </td>\n",
       "        </tr>\n",
       "        <tr>\n",
       "            <td>34.4     </td> <td>55.5    </td>\n",
       "        </tr>\n",
       "        <tr>\n",
       "            <td>37.6     </td> <td>55.8    </td>\n",
       "        </tr>\n",
       "        <tr>\n",
       "            <td>34.3     </td> <td>55.2    </td>\n",
       "        </tr>\n",
       "        <tr>\n",
       "            <td>32       </td> <td>54.6    </td>\n",
       "        </tr>\n",
       "        <tr>\n",
       "            <td>30.4     </td> <td>54.4    </td>\n",
       "        </tr>\n",
       "        <tr>\n",
       "            <td>26.8     </td> <td>54.3    </td>\n",
       "        </tr>\n",
       "    </tbody>\n",
       "</table>"
      ],
      "text/plain": [
       "Longitude | Latitude\n",
       "32        | 54.8\n",
       "33.2      | 54.9\n",
       "34.4      | 55.5\n",
       "37.6      | 55.8\n",
       "34.3      | 55.2\n",
       "32        | 54.6\n",
       "30.4      | 54.4\n",
       "26.8      | 54.3"
      ]
     },
     "execution_count": 21,
     "metadata": {},
     "output_type": "execute_result"
    }
   ],
   "source": [
    "minard.select('Longitude', 'Latitude')"
   ]
  },
  {
   "cell_type": "markdown",
   "metadata": {},
   "source": [
    "The same selection can be made using column indices instead of labels."
   ]
  },
  {
   "cell_type": "code",
   "execution_count": 22,
   "metadata": {},
   "outputs": [
    {
     "data": {
      "text/html": [
       "<table border=\"1\" class=\"dataframe\">\n",
       "    <thead>\n",
       "        <tr>\n",
       "            <th>Longitude</th> <th>Latitude</th>\n",
       "        </tr>\n",
       "    </thead>\n",
       "    <tbody>\n",
       "        <tr>\n",
       "            <td>32       </td> <td>54.8    </td>\n",
       "        </tr>\n",
       "        <tr>\n",
       "            <td>33.2     </td> <td>54.9    </td>\n",
       "        </tr>\n",
       "        <tr>\n",
       "            <td>34.4     </td> <td>55.5    </td>\n",
       "        </tr>\n",
       "        <tr>\n",
       "            <td>37.6     </td> <td>55.8    </td>\n",
       "        </tr>\n",
       "        <tr>\n",
       "            <td>34.3     </td> <td>55.2    </td>\n",
       "        </tr>\n",
       "        <tr>\n",
       "            <td>32       </td> <td>54.6    </td>\n",
       "        </tr>\n",
       "        <tr>\n",
       "            <td>30.4     </td> <td>54.4    </td>\n",
       "        </tr>\n",
       "        <tr>\n",
       "            <td>26.8     </td> <td>54.3    </td>\n",
       "        </tr>\n",
       "    </tbody>\n",
       "</table>"
      ],
      "text/plain": [
       "Longitude | Latitude\n",
       "32        | 54.8\n",
       "33.2      | 54.9\n",
       "34.4      | 55.5\n",
       "37.6      | 55.8\n",
       "34.3      | 55.2\n",
       "32        | 54.6\n",
       "30.4      | 54.4\n",
       "26.8      | 54.3"
      ]
     },
     "execution_count": 22,
     "metadata": {},
     "output_type": "execute_result"
    }
   ],
   "source": [
    "minard.select(0, 1)"
   ]
  },
  {
   "cell_type": "markdown",
   "metadata": {},
   "source": [
    "The result of using `select` is a new table, even when you select just one column."
   ]
  },
  {
   "cell_type": "code",
   "execution_count": 23,
   "metadata": {},
   "outputs": [
    {
     "data": {
      "text/html": [
       "<table border=\"1\" class=\"dataframe\">\n",
       "    <thead>\n",
       "        <tr>\n",
       "            <th>Survivors</th>\n",
       "        </tr>\n",
       "    </thead>\n",
       "    <tbody>\n",
       "        <tr>\n",
       "            <td>145000   </td>\n",
       "        </tr>\n",
       "        <tr>\n",
       "            <td>140000   </td>\n",
       "        </tr>\n",
       "        <tr>\n",
       "            <td>127100   </td>\n",
       "        </tr>\n",
       "        <tr>\n",
       "            <td>100000   </td>\n",
       "        </tr>\n",
       "        <tr>\n",
       "            <td>55000    </td>\n",
       "        </tr>\n",
       "        <tr>\n",
       "            <td>24000    </td>\n",
       "        </tr>\n",
       "        <tr>\n",
       "            <td>20000    </td>\n",
       "        </tr>\n",
       "        <tr>\n",
       "            <td>12000    </td>\n",
       "        </tr>\n",
       "    </tbody>\n",
       "</table>"
      ],
      "text/plain": [
       "Survivors\n",
       "145000\n",
       "140000\n",
       "127100\n",
       "100000\n",
       "55000\n",
       "24000\n",
       "20000\n",
       "12000"
      ]
     },
     "execution_count": 23,
     "metadata": {},
     "output_type": "execute_result"
    }
   ],
   "source": [
    "minard.select('Survivors')"
   ]
  },
  {
   "cell_type": "markdown",
   "metadata": {},
   "source": [
    "Notice that the result is a table, unlike the result of `column`, which is an array."
   ]
  },
  {
   "cell_type": "code",
   "execution_count": 24,
   "metadata": {},
   "outputs": [
    {
     "data": {
      "text/plain": [
       "array([145000, 140000, 127100, 100000,  55000,  24000,  20000,  12000])"
      ]
     },
     "execution_count": 24,
     "metadata": {},
     "output_type": "execute_result"
    }
   ],
   "source": [
    "minard.column('Survivors')"
   ]
  },
  {
   "cell_type": "markdown",
   "metadata": {},
   "source": [
    "Another way to create a new table consisting of a set of columns is to `drop` the columns you don't want."
   ]
  },
  {
   "cell_type": "code",
   "execution_count": 25,
   "metadata": {},
   "outputs": [
    {
     "data": {
      "text/html": [
       "<table border=\"1\" class=\"dataframe\">\n",
       "    <thead>\n",
       "        <tr>\n",
       "            <th>City Name</th> <th>Survivors</th> <th>Percent Surviving</th>\n",
       "        </tr>\n",
       "    </thead>\n",
       "    <tbody>\n",
       "        <tr>\n",
       "            <td>Smolensk   </td> <td>145000   </td> <td>100.00%          </td>\n",
       "        </tr>\n",
       "        <tr>\n",
       "            <td>Dorogobouge</td> <td>140000   </td> <td>96.55%           </td>\n",
       "        </tr>\n",
       "        <tr>\n",
       "            <td>Chjat      </td> <td>127100   </td> <td>87.66%           </td>\n",
       "        </tr>\n",
       "        <tr>\n",
       "            <td>Moscou     </td> <td>100000   </td> <td>68.97%           </td>\n",
       "        </tr>\n",
       "        <tr>\n",
       "            <td>Wixma      </td> <td>55000    </td> <td>37.93%           </td>\n",
       "        </tr>\n",
       "        <tr>\n",
       "            <td>Smolensk   </td> <td>24000    </td> <td>16.55%           </td>\n",
       "        </tr>\n",
       "        <tr>\n",
       "            <td>Orscha     </td> <td>20000    </td> <td>13.79%           </td>\n",
       "        </tr>\n",
       "        <tr>\n",
       "            <td>Moiodexno  </td> <td>12000    </td> <td>8.28%            </td>\n",
       "        </tr>\n",
       "    </tbody>\n",
       "</table>"
      ],
      "text/plain": [
       "City Name   | Survivors | Percent Surviving\n",
       "Smolensk    | 145000    | 100.00%\n",
       "Dorogobouge | 140000    | 96.55%\n",
       "Chjat       | 127100    | 87.66%\n",
       "Moscou      | 100000    | 68.97%\n",
       "Wixma       | 55000     | 37.93%\n",
       "Smolensk    | 24000     | 16.55%\n",
       "Orscha      | 20000     | 13.79%\n",
       "Moiodexno   | 12000     | 8.28%"
      ]
     },
     "execution_count": 25,
     "metadata": {},
     "output_type": "execute_result"
    }
   ],
   "source": [
    "minard.drop('Longitude', 'Latitude', 'Direction')"
   ]
  },
  {
   "cell_type": "markdown",
   "metadata": {},
   "source": [
    "Neither `select` nor `drop` change the original table. Instead, they create new smaller tables that share the same data. The fact that the original table is preserved is useful! You can generate multiple different tables that only consider certain columns without worrying that one analysis will affect the other."
   ]
  },
  {
   "cell_type": "code",
   "execution_count": 26,
   "metadata": {},
   "outputs": [
    {
     "data": {
      "text/html": [
       "<table border=\"1\" class=\"dataframe\">\n",
       "    <thead>\n",
       "        <tr>\n",
       "            <th>Longitude</th> <th>Latitude</th> <th>City Name</th> <th>Direction</th> <th>Survivors</th> <th>Percent Surviving</th>\n",
       "        </tr>\n",
       "    </thead>\n",
       "    <tbody>\n",
       "        <tr>\n",
       "            <td>32       </td> <td>54.8    </td> <td>Smolensk   </td> <td>Advance  </td> <td>145000   </td> <td>100.00%          </td>\n",
       "        </tr>\n",
       "        <tr>\n",
       "            <td>33.2     </td> <td>54.9    </td> <td>Dorogobouge</td> <td>Advance  </td> <td>140000   </td> <td>96.55%           </td>\n",
       "        </tr>\n",
       "        <tr>\n",
       "            <td>34.4     </td> <td>55.5    </td> <td>Chjat      </td> <td>Advance  </td> <td>127100   </td> <td>87.66%           </td>\n",
       "        </tr>\n",
       "        <tr>\n",
       "            <td>37.6     </td> <td>55.8    </td> <td>Moscou     </td> <td>Advance  </td> <td>100000   </td> <td>68.97%           </td>\n",
       "        </tr>\n",
       "        <tr>\n",
       "            <td>34.3     </td> <td>55.2    </td> <td>Wixma      </td> <td>Retreat  </td> <td>55000    </td> <td>37.93%           </td>\n",
       "        </tr>\n",
       "        <tr>\n",
       "            <td>32       </td> <td>54.6    </td> <td>Smolensk   </td> <td>Retreat  </td> <td>24000    </td> <td>16.55%           </td>\n",
       "        </tr>\n",
       "        <tr>\n",
       "            <td>30.4     </td> <td>54.4    </td> <td>Orscha     </td> <td>Retreat  </td> <td>20000    </td> <td>13.79%           </td>\n",
       "        </tr>\n",
       "        <tr>\n",
       "            <td>26.8     </td> <td>54.3    </td> <td>Moiodexno  </td> <td>Retreat  </td> <td>12000    </td> <td>8.28%            </td>\n",
       "        </tr>\n",
       "    </tbody>\n",
       "</table>"
      ],
      "text/plain": [
       "Longitude | Latitude | City Name   | Direction | Survivors | Percent Surviving\n",
       "32        | 54.8     | Smolensk    | Advance   | 145000    | 100.00%\n",
       "33.2      | 54.9     | Dorogobouge | Advance   | 140000    | 96.55%\n",
       "34.4      | 55.5     | Chjat       | Advance   | 127100    | 87.66%\n",
       "37.6      | 55.8     | Moscou      | Advance   | 100000    | 68.97%\n",
       "34.3      | 55.2     | Wixma       | Retreat   | 55000     | 37.93%\n",
       "32        | 54.6     | Smolensk    | Retreat   | 24000     | 16.55%\n",
       "30.4      | 54.4     | Orscha      | Retreat   | 20000     | 13.79%\n",
       "26.8      | 54.3     | Moiodexno   | Retreat   | 12000     | 8.28%"
      ]
     },
     "execution_count": 26,
     "metadata": {},
     "output_type": "execute_result"
    }
   ],
   "source": [
    "minard"
   ]
  },
  {
   "cell_type": "markdown",
   "metadata": {},
   "source": [
    "All of the methods that we have used above can be applied to any table."
   ]
  }
 ],
 "metadata": {
  "anaconda-cloud": {},
  "kernelspec": {
   "display_name": "Python 3 (ipykernel)",
   "language": "python",
   "name": "python3"
  },
  "language_info": {
   "codemirror_mode": {
    "name": "ipython",
    "version": 3
   },
   "file_extension": ".py",
   "mimetype": "text/x-python",
   "name": "python",
   "nbconvert_exporter": "python",
   "pygments_lexer": "ipython3",
   "version": "3.12.0"
  }
 },
 "nbformat": 4,
 "nbformat_minor": 4
}
